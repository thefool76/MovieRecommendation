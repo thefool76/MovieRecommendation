{
 "cells": [
  {
   "cell_type": "code",
   "execution_count": 1,
   "id": "467db50d",
   "metadata": {},
   "outputs": [],
   "source": [
    "#importing the libraries\n",
    "import torch\n",
    "import numpy as np\n",
    "import matplotlib.pyplot as plt"
   ]
  },
  {
   "cell_type": "markdown",
   "id": "227b0557",
   "metadata": {},
   "source": [
    "# 2. Dataset\n",
    "For this post, we are going to be using sklearn’s famous breast_cancer dataset"
   ]
  },
  {
   "cell_type": "code",
   "execution_count": 2,
   "id": "ef1f9f9a",
   "metadata": {},
   "outputs": [
    {
     "name": "stdout",
     "output_type": "stream",
     "text": [
      "shape of x: (569, 30)\n",
      "shape of y: (569,)\n"
     ]
    }
   ],
   "source": [
    "#importing the dataset\n",
    "from sklearn.datasets import load_breast_cancer\n",
    "data = load_breast_cancer()\n",
    "x = data['data']\n",
    "y = data['target']\n",
    "print(\"shape of x: {}\\nshape of y: {}\".format(x.shape,y.shape))"
   ]
  },
  {
   "cell_type": "markdown",
   "id": "a2a84bf0",
   "metadata": {},
   "source": [
    "# 3. Feature Scaling\n",
    "It is important to scale the features to a standard normal before sending it to the neural network.\n",
    "basically, This subtracts the mean of the column and divides by the standard deviation of a column for each value in the column ( Independent Variable)"
   ]
  },
  {
   "cell_type": "code",
   "execution_count": 3,
   "id": "068b29f9",
   "metadata": {},
   "outputs": [],
   "source": [
    "#feature scaling\n",
    "from sklearn.preprocessing import StandardScaler\n",
    "sc = StandardScaler()\n",
    "x = sc.fit_transform(x)"
   ]
  },
  {
   "cell_type": "markdown",
   "id": "40f2f8b2",
   "metadata": {},
   "source": [
    "# 4. Dataset and DataLoader\n",
    "Dataset class in pytorch basically covers the data in a tuple and enables us to access the index of each data. this is necessary to create dataloader class which can be used to shuffle, apply Mini-Batch Gradient Descent and more.\n",
    "Check out the previous post for more examples on how this works"
   ]
  },
  {
   "cell_type": "code",
   "execution_count": 4,
   "id": "453f45a0",
   "metadata": {},
   "outputs": [],
   "source": [
    "#defining dataset class\n",
    "from torch.utils.data import Dataset, DataLoader\n",
    "class dataset(Dataset):\n",
    "  def __init__(self,x,y):\n",
    "    self.x = torch.tensor(x,dtype=torch.float32)\n",
    "    self.y = torch.tensor(y,dtype=torch.float32)\n",
    "    self.length = self.x.shape[0]\n",
    " \n",
    "  def __getitem__(self,idx):\n",
    "    return self.x[idx],self.y[idx]\n",
    "  def __len__(self):\n",
    "    return self.length\n",
    "trainset = dataset(x,y)\n",
    "#DataLoader\n",
    "trainloader = DataLoader(trainset,batch_size=64,shuffle=False)"
   ]
  },
  {
   "cell_type": "markdown",
   "id": "57d90884",
   "metadata": {},
   "source": [
    "# 5. Neural Network for Classsification"
   ]
  },
  {
   "cell_type": "code",
   "execution_count": 5,
   "id": "ab037df0",
   "metadata": {},
   "outputs": [],
   "source": [
    "#defining the network\n",
    "from torch import nn\n",
    "from torch.nn import functional as F\n",
    "class Net(nn.Module):\n",
    "  def __init__(self,input_shape):\n",
    "    super(Net,self).__init__()\n",
    "    self.fc1 = nn.Linear(input_shape,32)\n",
    "    self.fc2 = nn.Linear(32,64)\n",
    "    self.fc3 = nn.Linear(64,1)\n",
    "  def forward(self,x):\n",
    "    x = torch.relu(self.fc1(x))\n",
    "    x = torch.relu(self.fc2(x))\n",
    "    x = torch.sigmoid(self.fc3(x))\n",
    "    return x"
   ]
  },
  {
   "cell_type": "markdown",
   "id": "e1a30909",
   "metadata": {},
   "source": [
    "# Selecting various parameters such as number of epochs , loss function , learning rate and more"
   ]
  },
  {
   "cell_type": "code",
   "execution_count": 6,
   "id": "2bb075b5",
   "metadata": {},
   "outputs": [],
   "source": [
    "#hyper parameters\n",
    "learning_rate = 0.01\n",
    "epochs = 700\n",
    "# Model , Optimizer, Loss\n",
    "model = Net(input_shape=x.shape[1])\n",
    "optimizer = torch.optim.SGD(model.parameters(),lr=learning_rate)\n",
    "loss_fn = nn.BCELoss()"
   ]
  },
  {
   "cell_type": "markdown",
   "id": "f556af35",
   "metadata": {},
   "source": [
    "# BCELoss is a pytorch class for Binary Cross Entropy loss which is the standard loss function used for binary classification."
   ]
  },
  {
   "cell_type": "markdown",
   "id": "c1c7ae54",
   "metadata": {},
   "source": [
    "# Training\n",
    "The Gradients that are found from the loss function are used to change the values of the weights and the process is repeated several times.\n",
    "This is done to minimize the loss function and increase the accuracy\n",
    "Also , the Dataset is not split into training and test set because the amount of data is already low"
   ]
  },
  {
   "cell_type": "code",
   "execution_count": 7,
   "id": "ade939fe",
   "metadata": {},
   "outputs": [
    {
     "name": "stdout",
     "output_type": "stream",
     "text": [
      "epoch 0\tloss : 0.7149179577827454\t accuracy : 0.3655536028119508\n",
      "epoch 50\tloss : 0.1706404983997345\t accuracy : 0.9578207381370826\n",
      "epoch 100\tloss : 0.08886819332838058\t accuracy : 0.9736379613356766\n",
      "epoch 150\tloss : 0.07019762694835663\t accuracy : 0.9789103690685413\n",
      "epoch 200\tloss : 0.06052989885210991\t accuracy : 0.9824253075571178\n",
      "epoch 250\tloss : 0.053429652005434036\t accuracy : 0.984182776801406\n",
      "epoch 300\tloss : 0.048296235501766205\t accuracy : 0.9859402460456942\n",
      "epoch 350\tloss : 0.04460669681429863\t accuracy : 0.9894551845342706\n",
      "epoch 400\tloss : 0.04186464846134186\t accuracy : 0.9912126537785588\n",
      "epoch 450\tloss : 0.03959687799215317\t accuracy : 0.9929701230228472\n",
      "epoch 500\tloss : 0.03773213177919388\t accuracy : 0.9929701230228472\n",
      "epoch 550\tloss : 0.03593584895133972\t accuracy : 0.9929701230228472\n",
      "epoch 600\tloss : 0.03414404019713402\t accuracy : 0.9929701230228472\n",
      "epoch 650\tloss : 0.03243443742394447\t accuracy : 0.9929701230228472\n"
     ]
    }
   ],
   "source": [
    "#forward loop\n",
    "losses = []\n",
    "accur = []\n",
    "for i in range(epochs):\n",
    "  for j,(x_train,y_train) in enumerate(trainloader):\n",
    "    \n",
    "    #calculate output\n",
    "    output = model(x_train)\n",
    " \n",
    "    #calculate loss\n",
    "    loss = loss_fn(output,y_train.reshape(-1,1))\n",
    " \n",
    "    #accuracy\n",
    "    predicted = model(torch.tensor(x,dtype=torch.float32))\n",
    "    acc = (predicted.reshape(-1).detach().numpy().round() == y).mean()\n",
    "    #backprop\n",
    "    optimizer.zero_grad()\n",
    "    loss.backward()\n",
    "    optimizer.step()\n",
    "\n",
    "  if i%50 == 0:\n",
    "    losses.append(loss)\n",
    "    accur.append(acc)\n",
    "    print(\"epoch {}\\tloss : {}\\t accuracy : {}\".format(i,loss,acc))"
   ]
  },
  {
   "cell_type": "raw",
   "id": "74c7c2c4",
   "metadata": {},
   "source": [
    "plotting loss and accuracy over epochs to see how it changed over training"
   ]
  },
  {
   "cell_type": "code",
   "execution_count": 9,
   "id": "2dd1f6de",
   "metadata": {},
   "outputs": [
    {
     "data": {
      "text/plain": [
       "Text(0, 0.5, 'loss')"
      ]
     },
     "execution_count": 9,
     "metadata": {},
     "output_type": "execute_result"
    },
    {
     "data": {
      "image/png": "[encoded data removed]",
      "text/plain": [
       "<Figure size 432x288 with 1 Axes>"
      ]
     },
     "metadata": {
      "needs_background": "light"
     },
     "output_type": "display_data"
    }
   ],
   "source": [
    "plt.plot(accur)\n",
    "plt.title('Accuracy vs Epochs')\n",
    "plt.xlabel('Accuracy')\n",
    "plt.ylabel('loss')"
   ]
  },
  {
   "cell_type": "raw",
   "id": "8a8c41dc",
   "metadata": {},
   "source": [
    "using convential ML approach"
   ]
  },
  {
   "cell_type": "code",
   "execution_count": 15,
   "id": "6e7877a5",
   "metadata": {},
   "outputs": [],
   "source": [
    "from sklearn.model_selection import train_test_split\n",
    "# i.e. 80 % training dataset and 30 % test datasets\n",
    "X_train, X_test, y_train, y_test = train_test_split(x, y, test_size = 0.70)"
   ]
  },
  {
   "cell_type": "code",
   "execution_count": 16,
   "id": "7915cb2b",
   "metadata": {},
   "outputs": [],
   "source": [
    "from sklearn.ensemble import RandomForestClassifier"
   ]
  },
  {
   "cell_type": "code",
   "execution_count": 17,
   "id": "288af18c",
   "metadata": {},
   "outputs": [],
   "source": [
    "clf = RandomForestClassifier(n_estimators = 100) "
   ]
  },
  {
   "cell_type": "code",
   "execution_count": 18,
   "id": "4f449071",
   "metadata": {},
   "outputs": [
    {
     "data": {
      "text/plain": [
       "RandomForestClassifier()"
      ]
     },
     "execution_count": 18,
     "metadata": {},
     "output_type": "execute_result"
    }
   ],
   "source": [
    "# Training the model on the training dataset\n",
    "# fit function is used to train the model using the training sets as parameters\n",
    "clf.fit(X_train, y_train)"
   ]
  },
  {
   "cell_type": "code",
   "execution_count": 22,
   "id": "b1a341f6",
   "metadata": {},
   "outputs": [
    {
     "name": "stdout",
     "output_type": "stream",
     "text": [
      "\n",
      "ACCURACY OF THE MODEL:  94.73684210526315\n"
     ]
    }
   ],
   "source": [
    "# performing predictions on the test dataset\n",
    "y_pred = clf.predict(X_test)\n",
    "  \n",
    "# metrics are used to find accuracy or error\n",
    "from sklearn import metrics  \n",
    "print()\n",
    "  \n",
    "# using metrics module for accuracy calculation\n",
    "print(\"ACCURACY OF THE MODEL: \", metrics.accuracy_score(y_test, y_pred)*100)"
   ]
  },
  {
   "cell_type": "raw",
   "id": "5dd7455c",
   "metadata": {},
   "source": [
    "Logistic Regression"
   ]
  },
  {
   "cell_type": "code",
   "execution_count": 23,
   "id": "56028b4e",
   "metadata": {},
   "outputs": [
    {
     "name": "stdout",
     "output_type": "stream",
     "text": [
      "Logistic Regression model accuracy(in %): 96.99248120300751\n"
     ]
    }
   ],
   "source": [
    "from sklearn import datasets, linear_model, metrics\n",
    "\n",
    "# create logistic regression object\n",
    "reg = linear_model.LogisticRegression()\n",
    "   \n",
    "# train the model using the training sets\n",
    "reg.fit(X_train, y_train)\n",
    "  \n",
    "# making predictions on the testing set\n",
    "y_pred = reg.predict(X_test)\n",
    "   \n",
    "# comparing actual response values (y_test) with predicted response values (y_pred)\n",
    "print(\"Logistic Regression model accuracy(in %):\", \n",
    "metrics.accuracy_score(y_test, y_pred)*100)"
   ]
  },
  {
   "cell_type": "code",
   "execution_count": null,
   "id": "8a924117",
   "metadata": {},
   "outputs": [],
   "source": []
  }
 ],
 "metadata": {
  "kernelspec": {
   "display_name": "Python 3",
   "language": "python",
   "name": "python3"
  },
  "language_info": {
   "codemirror_mode": {
    "name": "ipython",
    "version": 3
   },
   "file_extension": ".py",
   "mimetype": "text/x-python",
   "name": "python",
   "nbconvert_exporter": "python",
   "pygments_lexer": "ipython3",
   "version": "3.8.8"
  }
 },
 "nbformat": 4,
 "nbformat_minor": 5
}
