{
 "cells": [
  {
   "cell_type": "code",
   "execution_count": 7,
   "id": "2620e4a2",
   "metadata": {},
   "outputs": [],
   "source": [
    "from skimage.metrics import structural_similarity\n",
    "import cv2"
   ]
  },
  {
   "cell_type": "code",
   "execution_count": 15,
   "id": "115d9c10",
   "metadata": {},
   "outputs": [],
   "source": [
    "def orb_sim(img1, img2):\n",
    "  # SIFT is no longer available in cv2 so using ORB\n",
    "  orb = cv2.ORB_create()\n",
    "\n",
    "  # detect keypoints and descriptors\n",
    "  kp_a, desc_a = orb.detectAndCompute(img1, None)\n",
    "  kp_b, desc_b = orb.detectAndCompute(img2, None)\n",
    "\n",
    "  # define the bruteforce matcher object\n",
    "  bf = cv2.BFMatcher(cv2.NORM_HAMMING, crossCheck=True)\n",
    "    \n",
    "  #perform matches. \n",
    "  matches = bf.match(desc_a, desc_b)\n",
    "  #Look for similar regions with distance < 50. Goes from 0 to 100 so pick a number between.\n",
    "  similar_regions = [i for i in matches if i.distance < 50]  \n",
    "  if len(matches) == 0:\n",
    "    return 0\n",
    "  return len(similar_regions) / len(matches)"
   ]
  },
  {
   "cell_type": "code",
   "execution_count": 26,
   "id": "b2ed8f9c",
   "metadata": {},
   "outputs": [
    {
     "name": "stdout",
     "output_type": "stream",
     "text": [
      "Similarity using ORB is:  0.07751937984496124\n"
     ]
    }
   ],
   "source": [
    "def structural_sim(img1, img2):\n",
    "\n",
    "  sim, diff = structural_similarity(img1, img2, full=True)\n",
    "  return sim\n",
    "\n",
    "img00 = cv2.imread(r'C:\\Users\\Arun\\Downloads\\muzzle_pattern_match_v3\\Cattle1\\Cattle1_1.jpg', 0)\n",
    "img01 = cv2.imread(r'C:\\Users\\Arun\\Downloads\\muzzle_pattern_match_v3\\Test\\test3.jpg', 0)\n",
    "\n",
    "# img1 = cv2.imread('images/BSE.jpg', 0)  # 714 x 901 pixels\n",
    "# img2 = cv2.imread('images/BSE_noisy.jpg', 0)  # 714 x 901 pixels\n",
    "# img3 = cv2.imread('images/BSE_smoothed.jpg', 0)  # 203 x 256 pixels\n",
    "# img4 = cv2.imread('images/different_img.jpg', 0)  # 203 x 256 pixels\n",
    "\n",
    "orb_similarity = orb_sim(img00, img01)  #1.0 means identical. Lower = not similar\n",
    "\n",
    "print(\"Similarity using ORB is: \", orb_similarity)\n",
    "#Resize for SSIM\n",
    "# from skimage.transform import resize\n",
    "# img5 = resize(img3, (img1.shape[0], img1.shape[1]), anti_aliasing=True, preserve_range=True)\n",
    "\n",
    "#ssim = structural_sim(img1, img5) #1.0 means identical. Lower = not similar\n",
    "#print(\"Similarity using SSIM is: \", ssim)"
   ]
  },
  {
   "cell_type": "code",
   "execution_count": null,
   "id": "1bdb373f",
   "metadata": {},
   "outputs": [],
   "source": []
  }
 ],
 "metadata": {
  "kernelspec": {
   "display_name": "Python 3",
   "language": "python",
   "name": "python3"
  },
  "language_info": {
   "codemirror_mode": {
    "name": "ipython",
    "version": 3
   },
   "file_extension": ".py",
   "mimetype": "text/x-python",
   "name": "python",
   "nbconvert_exporter": "python",
   "pygments_lexer": "ipython3",
   "version": "3.8.8"
  }
 },
 "nbformat": 4,
 "nbformat_minor": 5
}
